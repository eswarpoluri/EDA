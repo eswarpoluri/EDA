{
 "cells": [
  {
   "cell_type": "markdown",
   "id": "1eb59962",
   "metadata": {},
   "source": [
    "# Contents\n",
    "## 1 Getting insights of data:\n",
    "### 1.1 General insights:\n",
    "    - No of variables (rows) & observations (columns)\n",
    "    - No of Categorical features\n",
    "    - No of Numerical features\n",
    "    - No of bool features\n",
    "### 1.2 Problem specific insights:\n",
    "    - Missing Value columns & its %, \n",
    "        - Stacked bar chart\n",
    "        - Spectrum chart\n",
    "    - Numerical variables \n",
    "        - Skewed data columns\n",
    "        - high collinearity columns\n",
    "    - Categorical Variables\n",
    "        - high cardinality: \n",
    "            - no of distinct values, \n",
    "            - columns with all distinct values \n",
    "    - Imbalance dataset or not\n",
    "        - bar graph – frequency %"
   ]
  },
  {
   "cell_type": "code",
   "execution_count": 1,
   "id": "e7b6013d",
   "metadata": {},
   "outputs": [],
   "source": [
    "# Importing Libraries\n",
    "import pandas as pd\n",
    "import numpy as np\n",
    "import matplotlib.pyplot as plt\n",
    "import seaborn as sns\n",
    "import missingno as msno"
   ]
  },
  {
   "cell_type": "code",
   "execution_count": 2,
   "id": "0bad5bb1",
   "metadata": {},
   "outputs": [
    {
     "data": {
      "text/html": [
       "<div>\n",
       "<style scoped>\n",
       "    .dataframe tbody tr th:only-of-type {\n",
       "        vertical-align: middle;\n",
       "    }\n",
       "\n",
       "    .dataframe tbody tr th {\n",
       "        vertical-align: top;\n",
       "    }\n",
       "\n",
       "    .dataframe thead th {\n",
       "        text-align: right;\n",
       "    }\n",
       "</style>\n",
       "<table border=\"1\" class=\"dataframe\">\n",
       "  <thead>\n",
       "    <tr style=\"text-align: right;\">\n",
       "      <th></th>\n",
       "      <th>ID</th>\n",
       "      <th>Gender</th>\n",
       "      <th>Age</th>\n",
       "      <th>Region_Code</th>\n",
       "      <th>Occupation</th>\n",
       "      <th>Channel_Code</th>\n",
       "      <th>Vintage</th>\n",
       "      <th>Credit_Product</th>\n",
       "      <th>Avg_Account_Balance</th>\n",
       "      <th>Is_Active</th>\n",
       "      <th>Is_Lead</th>\n",
       "    </tr>\n",
       "  </thead>\n",
       "  <tbody>\n",
       "    <tr>\n",
       "      <th>0</th>\n",
       "      <td>NNVBBKZB</td>\n",
       "      <td>Female</td>\n",
       "      <td>73</td>\n",
       "      <td>RG268</td>\n",
       "      <td>Other</td>\n",
       "      <td>X3</td>\n",
       "      <td>43</td>\n",
       "      <td>No</td>\n",
       "      <td>1045696</td>\n",
       "      <td>No</td>\n",
       "      <td>0</td>\n",
       "    </tr>\n",
       "    <tr>\n",
       "      <th>1</th>\n",
       "      <td>IDD62UNG</td>\n",
       "      <td>Female</td>\n",
       "      <td>30</td>\n",
       "      <td>RG277</td>\n",
       "      <td>Salaried</td>\n",
       "      <td>X1</td>\n",
       "      <td>32</td>\n",
       "      <td>No</td>\n",
       "      <td>581988</td>\n",
       "      <td>No</td>\n",
       "      <td>0</td>\n",
       "    </tr>\n",
       "    <tr>\n",
       "      <th>2</th>\n",
       "      <td>HD3DSEMC</td>\n",
       "      <td>Female</td>\n",
       "      <td>56</td>\n",
       "      <td>RG268</td>\n",
       "      <td>Self_Employed</td>\n",
       "      <td>X3</td>\n",
       "      <td>26</td>\n",
       "      <td>No</td>\n",
       "      <td>1484315</td>\n",
       "      <td>Yes</td>\n",
       "      <td>0</td>\n",
       "    </tr>\n",
       "    <tr>\n",
       "      <th>3</th>\n",
       "      <td>BF3NC7KV</td>\n",
       "      <td>Male</td>\n",
       "      <td>34</td>\n",
       "      <td>RG270</td>\n",
       "      <td>Salaried</td>\n",
       "      <td>X1</td>\n",
       "      <td>19</td>\n",
       "      <td>No</td>\n",
       "      <td>470454</td>\n",
       "      <td>No</td>\n",
       "      <td>0</td>\n",
       "    </tr>\n",
       "    <tr>\n",
       "      <th>4</th>\n",
       "      <td>TEASRWXV</td>\n",
       "      <td>Female</td>\n",
       "      <td>30</td>\n",
       "      <td>RG282</td>\n",
       "      <td>Salaried</td>\n",
       "      <td>X1</td>\n",
       "      <td>33</td>\n",
       "      <td>No</td>\n",
       "      <td>886787</td>\n",
       "      <td>No</td>\n",
       "      <td>0</td>\n",
       "    </tr>\n",
       "  </tbody>\n",
       "</table>\n",
       "</div>"
      ],
      "text/plain": [
       "         ID  Gender  Age Region_Code     Occupation Channel_Code  Vintage  \\\n",
       "0  NNVBBKZB  Female   73       RG268          Other           X3       43   \n",
       "1  IDD62UNG  Female   30       RG277       Salaried           X1       32   \n",
       "2  HD3DSEMC  Female   56       RG268  Self_Employed           X3       26   \n",
       "3  BF3NC7KV    Male   34       RG270       Salaried           X1       19   \n",
       "4  TEASRWXV  Female   30       RG282       Salaried           X1       33   \n",
       "\n",
       "  Credit_Product  Avg_Account_Balance Is_Active  Is_Lead  \n",
       "0             No              1045696        No        0  \n",
       "1             No               581988        No        0  \n",
       "2             No              1484315       Yes        0  \n",
       "3             No               470454        No        0  \n",
       "4             No               886787        No        0  "
      ]
     },
     "execution_count": 2,
     "metadata": {},
     "output_type": "execute_result"
    }
   ],
   "source": [
    "df = pd.read_csv('train.csv')\n",
    "df.head()"
   ]
  },
  {
   "cell_type": "markdown",
   "id": "5dbf6a53",
   "metadata": {},
   "source": [
    "### 1.1 General insights:"
   ]
  },
  {
   "cell_type": "markdown",
   "id": "e1a972c0",
   "metadata": {},
   "source": [
    "    - No of variables (rows) & observations (columns)\n",
    "    - No of Categorical features\n",
    "    - No of Numerical features\n",
    "    - No of bool features"
   ]
  },
  {
   "cell_type": "code",
   "execution_count": 3,
   "id": "77085f5e",
   "metadata": {},
   "outputs": [],
   "source": [
    "def eda_gen(dataframe):\n",
    "    df = dataframe\n",
    "\n",
    "    # No of Nows & Columns\n",
    "    rows = df.shape[0]\n",
    "    columns = df.shape[1]\n",
    "\n",
    "    # Features count\n",
    "    # No of Categorical features\n",
    "    try:\n",
    "        cate_features = df.dtypes.value_counts()[0]\n",
    "    except:\n",
    "        cate_features = 0\n",
    "    # No of Numerical features\n",
    "    try:\n",
    "        num_features = df.dtypes.value_counts()[1]\n",
    "    except:\n",
    "        num_features = 0    \n",
    "    # No of bool features    \n",
    "    try:\n",
    "        bool_features = df.dtypes.value_counts()[2]\n",
    "    except:\n",
    "        bool_features = 0    \n",
    "    # '\\033[4m' - underline, '\\033[94m'- blue, \"\\033[0;0m\"- end formating\n",
    "    print('\\033[4m' + '\\033[94m'+ 'General insights:' + \"\\033[0;0m\",\n",
    "          '\\nNo of rows :               ', rows,\n",
    "          '\\nNo of columns:             ',columns, \n",
    "          '\\nNo of categorical features:', cate_features, \n",
    "          '\\nNo of Numarical features:  ', num_features, \n",
    "          '\\nNo of Boolean features:    ', bool_features)"
   ]
  },
  {
   "cell_type": "code",
   "execution_count": 4,
   "id": "88bcdf21",
   "metadata": {},
   "outputs": [
    {
     "name": "stdout",
     "output_type": "stream",
     "text": [
      "\u001b[4m\u001b[94mGeneral insights:\u001b[0;0m \n",
      "No of rows :                245725 \n",
      "No of columns:              11 \n",
      "No of categorical features: 7 \n",
      "No of Numarical features:   4 \n",
      "No of Boolean features:     0\n"
     ]
    }
   ],
   "source": [
    "eda_gen(df)"
   ]
  },
  {
   "cell_type": "markdown",
   "id": "7c30d278",
   "metadata": {},
   "source": [
    "### 1.2 Problem specific insights:\n",
    "    1.2.1 - Missing Value columns & its %, \n",
    "            - Stacked bar chart\n",
    "            - Spectrum chart"
   ]
  },
  {
   "cell_type": "code",
   "execution_count": 5,
   "id": "41c984d3",
   "metadata": {},
   "outputs": [],
   "source": [
    "class eda_prob_spec:\n",
    "    def __init__(self, dataframe):\n",
    "        self.df = dataframe\n",
    "    def missing_value_df(self):\n",
    "        not_null_count = self.df.notnull().sum()\n",
    "        null_count = self.df.isnull().sum()\n",
    "        null_percentage = self.df.isnull().sum() * 100 / len(df)\n",
    "        not_null_percentage = 100 - null_percentage\n",
    "        missing_value_df = pd.DataFrame({'not_null_count': not_null_count,\n",
    "                                         'null_count': null_count,\n",
    "                                         'not_null_percent': not_null_percentage,\n",
    "                                         'null_percent': null_percentage})\n",
    "        missing_value_df.sort_values('null_percent', ascending=False, inplace=True)\n",
    "        missing_value_df = missing_value_df[missing_value_df['null_count']>0]\n",
    "        return(missing_value_df)\n",
    "    def missing_value_plot(self):\n",
    "        plt_df = self.missing_value_df()\n",
    "        plt_df = plt_df.iloc[:,[2,3]]\n",
    "        plt = plt_df.plot(kind='bar', stacked=True, title='Skacked Bar Chart')\n",
    "        plt_msno = msno.matrix(self.df[plt_df.index], sparkline=False) # \n",
    "        #return plt, plt_msno"
   ]
  },
  {
   "cell_type": "code",
   "execution_count": 6,
   "id": "b0b975c1",
   "metadata": {},
   "outputs": [
    {
     "data": {
      "image/png": "[encoded data removed]",
      "text/plain": [
       "<Figure size 432x288 with 1 Axes>"
      ]
     },
     "metadata": {
      "needs_background": "light"
     },
     "output_type": "display_data"
    },
    {
     "data": {
      "image/png": "[encoded data removed]",
      "text/plain": [
       "<Figure size 1800x720 with 1 Axes>"
      ]
     },
     "metadata": {
      "needs_background": "light"
     },
     "output_type": "display_data"
    }
   ],
   "source": [
    "from IPython.core.interactiveshell import InteractiveShell\n",
    "InteractiveShell.ast_node_interactivity = \"all\" #\"last_expr\"\n",
    "\n",
    "df_null_stats = eda_prob_spec(df)\n",
    "df_null_stats.missing_value_df()\n",
    "df_null_stats.missing_value_plot()"
   ]
  },
  {
   "cell_type": "markdown",
   "id": "e62954c5",
   "metadata": {},
   "source": [
    "    1.2.2 - Numerical variables \n",
    "            - Skewed data columns\n",
    "            - high collinearity columns"
   ]
  },
  {
   "cell_type": "markdown",
   "id": "78ceaa3f",
   "metadata": {},
   "source": [
    "### Skewness in the Data"
   ]
  },
  {
   "cell_type": "code",
   "execution_count": 7,
   "id": "5f386250",
   "metadata": {},
   "outputs": [
    {
     "data": {
      "text/plain": [
       "'\\nDescriptive Statistics:\\n    - Mean, std, \\n    - Variance, Skewness, Kurtosis, Coefficient of Variation\\n\\nSkewness:\\n    - data is considered to be normal if Skewness is between ‐2 to +2 and Kurtosis is between ‐7 to +7\\n    - Highly Skewed - less than -1 or greater than 1\\n    - moderately Skewed - between -1 and – 0.5 or between 0.5 and 1\\n    - Not Skewed - between -0.5 and 0.5\\n'"
      ]
     },
     "execution_count": 7,
     "metadata": {},
     "output_type": "execute_result"
    },
    {
     "data": {
      "text/plain": [
       "Age                    2.198895e+02\n",
       "Vintage                1.046725e+03\n",
       "Avg_Account_Balance    7.275004e+11\n",
       "Is_Lead                1.809412e-01\n",
       "dtype: float64"
      ]
     },
     "execution_count": 7,
     "metadata": {},
     "output_type": "execute_result"
    },
    {
     "data": {
      "text/plain": [
       "Age                    0.618992\n",
       "Vintage                0.790189\n",
       "Avg_Account_Balance    2.968727\n",
       "Is_Lead                1.235596\n",
       "dtype: float64"
      ]
     },
     "execution_count": 7,
     "metadata": {},
     "output_type": "execute_result"
    },
    {
     "data": {
      "text/plain": [
       "Age                    -0.441273\n",
       "Vintage                -0.696540\n",
       "Avg_Account_Balance    14.304594\n",
       "Is_Lead                -0.473307\n",
       "dtype: float64"
      ]
     },
     "execution_count": 7,
     "metadata": {},
     "output_type": "execute_result"
    }
   ],
   "source": [
    "'''\n",
    "Descriptive Statistics:\n",
    "    - Mean, std, \n",
    "    - Variance, Skewness, Kurtosis, Coefficient of Variation\n",
    "\n",
    "Skewness:\n",
    "    - data is considered to be normal if Skewness is between ‐2 to +2 and Kurtosis is between ‐7 to +7\n",
    "    - Highly Skewed - less than -1 or greater than 1\n",
    "    - moderately Skewed - between -1 and – 0.5 or between 0.5 and 1\n",
    "    - Not Skewed - between -0.5 and 0.5\n",
    "'''\n",
    "df.var()   \n",
    "df.skew(axis = 0, skipna = True)\n",
    "df.kurtosis(axis = 0, skipna = True)"
   ]
  },
  {
   "cell_type": "code",
   "execution_count": 8,
   "id": "c531eb57",
   "metadata": {},
   "outputs": [
    {
     "data": {
      "text/plain": [
       "Age                    0.338119\n",
       "Vintage                0.688964\n",
       "Avg_Account_Balance    0.755879\n",
       "Is_Lead                1.793242\n",
       "dtype: float64"
      ]
     },
     "execution_count": 8,
     "metadata": {},
     "output_type": "execute_result"
    }
   ],
   "source": [
    "# Coefficient of Variation\n",
    "cv = lambda x: np.std(x, ddof=1) / np.mean(x)\n",
    "df.loc[:,['Age', 'Vintage', 'Avg_Account_Balance', 'Is_Lead']].apply(cv)"
   ]
  },
  {
   "cell_type": "code",
   "execution_count": 10,
   "id": "4bcd1a71",
   "metadata": {},
   "outputs": [
    {
     "data": {
      "text/html": [
       "<div>\n",
       "<style scoped>\n",
       "    .dataframe tbody tr th:only-of-type {\n",
       "        vertical-align: middle;\n",
       "    }\n",
       "\n",
       "    .dataframe tbody tr th {\n",
       "        vertical-align: top;\n",
       "    }\n",
       "\n",
       "    .dataframe thead th {\n",
       "        text-align: right;\n",
       "    }\n",
       "</style>\n",
       "<table border=\"1\" class=\"dataframe\">\n",
       "  <thead>\n",
       "    <tr style=\"text-align: right;\">\n",
       "      <th></th>\n",
       "      <th>Age</th>\n",
       "      <th>Vintage</th>\n",
       "      <th>Avg_Account_Balance</th>\n",
       "      <th>Is_Lead</th>\n",
       "    </tr>\n",
       "  </thead>\n",
       "  <tbody>\n",
       "    <tr>\n",
       "      <th>count</th>\n",
       "      <td>245725.000000</td>\n",
       "      <td>245725.000000</td>\n",
       "      <td>2.457250e+05</td>\n",
       "      <td>245725.000000</td>\n",
       "    </tr>\n",
       "    <tr>\n",
       "      <th>mean</th>\n",
       "      <td>43.856307</td>\n",
       "      <td>46.959141</td>\n",
       "      <td>1.128403e+06</td>\n",
       "      <td>0.237208</td>\n",
       "    </tr>\n",
       "    <tr>\n",
       "      <th>std</th>\n",
       "      <td>14.828672</td>\n",
       "      <td>32.353136</td>\n",
       "      <td>8.529364e+05</td>\n",
       "      <td>0.425372</td>\n",
       "    </tr>\n",
       "    <tr>\n",
       "      <th>min</th>\n",
       "      <td>23.000000</td>\n",
       "      <td>7.000000</td>\n",
       "      <td>2.079000e+04</td>\n",
       "      <td>0.000000</td>\n",
       "    </tr>\n",
       "    <tr>\n",
       "      <th>25%</th>\n",
       "      <td>30.000000</td>\n",
       "      <td>20.000000</td>\n",
       "      <td>6.043100e+05</td>\n",
       "      <td>0.000000</td>\n",
       "    </tr>\n",
       "    <tr>\n",
       "      <th>50%</th>\n",
       "      <td>43.000000</td>\n",
       "      <td>32.000000</td>\n",
       "      <td>8.946010e+05</td>\n",
       "      <td>0.000000</td>\n",
       "    </tr>\n",
       "    <tr>\n",
       "      <th>75%</th>\n",
       "      <td>54.000000</td>\n",
       "      <td>73.000000</td>\n",
       "      <td>1.366666e+06</td>\n",
       "      <td>0.000000</td>\n",
       "    </tr>\n",
       "    <tr>\n",
       "      <th>max</th>\n",
       "      <td>85.000000</td>\n",
       "      <td>135.000000</td>\n",
       "      <td>1.035201e+07</td>\n",
       "      <td>1.000000</td>\n",
       "    </tr>\n",
       "  </tbody>\n",
       "</table>\n",
       "</div>"
      ],
      "text/plain": [
       "                 Age        Vintage  Avg_Account_Balance        Is_Lead\n",
       "count  245725.000000  245725.000000         2.457250e+05  245725.000000\n",
       "mean       43.856307      46.959141         1.128403e+06       0.237208\n",
       "std        14.828672      32.353136         8.529364e+05       0.425372\n",
       "min        23.000000       7.000000         2.079000e+04       0.000000\n",
       "25%        30.000000      20.000000         6.043100e+05       0.000000\n",
       "50%        43.000000      32.000000         8.946010e+05       0.000000\n",
       "75%        54.000000      73.000000         1.366666e+06       0.000000\n",
       "max        85.000000     135.000000         1.035201e+07       1.000000"
      ]
     },
     "execution_count": 10,
     "metadata": {},
     "output_type": "execute_result"
    }
   ],
   "source": [
    "# Quantile Statistics\n",
    "df.describe()"
   ]
  },
  {
   "cell_type": "markdown",
   "id": "2afd8f8d",
   "metadata": {},
   "source": [
    "\n",
    "    1.2.3 - Categorical Variables\n",
    "            - high cardinality: \n",
    "                - no of distinct values, \n",
    "                - columns with all distinct values \n",
    "    1.2.4 - Imbalance dataset or not\n",
    "            - bar graph – frequency %"
   ]
  },
  {
   "cell_type": "code",
   "execution_count": 11,
   "id": "41504fc0",
   "metadata": {},
   "outputs": [
    {
     "name": "stdout",
     "output_type": "stream",
     "text": [
      "<class 'pandas.core.frame.DataFrame'>\n",
      "RangeIndex: 245725 entries, 0 to 245724\n",
      "Data columns (total 11 columns):\n",
      " #   Column               Non-Null Count   Dtype \n",
      "---  ------               --------------   ----- \n",
      " 0   ID                   245725 non-null  object\n",
      " 1   Gender               245725 non-null  object\n",
      " 2   Age                  245725 non-null  int64 \n",
      " 3   Region_Code          245725 non-null  object\n",
      " 4   Occupation           245725 non-null  object\n",
      " 5   Channel_Code         245725 non-null  object\n",
      " 6   Vintage              245725 non-null  int64 \n",
      " 7   Credit_Product       216400 non-null  object\n",
      " 8   Avg_Account_Balance  245725 non-null  int64 \n",
      " 9   Is_Active            245725 non-null  object\n",
      " 10  Is_Lead              245725 non-null  int64 \n",
      "dtypes: int64(4), object(7)\n",
      "memory usage: 20.6+ MB\n"
     ]
    }
   ],
   "source": [
    "# Check whether all Dtypes are proper or not, else convert to relevent datatype\n",
    "df.info()"
   ]
  },
  {
   "cell_type": "code",
   "execution_count": null,
   "id": "bf9d4d51",
   "metadata": {},
   "outputs": [],
   "source": []
  }
 ],
 "metadata": {
  "kernelspec": {
   "display_name": "Python 3.7.4 64-bit ('base': conda)",
   "language": "python",
   "name": "python37464bitbasecondaddb2f51f023b422196219bf78748718b"
  },
  "language_info": {
   "codemirror_mode": {
    "name": "ipython",
    "version": 3
   },
   "file_extension": ".py",
   "mimetype": "text/x-python",
   "name": "python",
   "nbconvert_exporter": "python",
   "pygments_lexer": "ipython3",
   "version": "3.7.10"
  }
 },
 "nbformat": 4,
 "nbformat_minor": 5
}
