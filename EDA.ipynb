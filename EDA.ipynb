{
 "cells": [
  {
   "cell_type": "markdown",
   "id": "15ec39f2",
   "metadata": {},
   "source": [
    "# Contents\n",
    "## 1 Getting insights of data:\n",
    "### 1.1 General insights:\n",
    "    - No of variables (rows) & observations (columns)\n",
    "    - No of Categorical features\n",
    "    - No of Numerical features\n",
    "    - No of bool features\n",
    "### 1.2 Problem specific insights:\n",
    "    - Missing Value columns & its %, \n",
    "        - Stacked bar chart\n",
    "        - Spectrum chart\n",
    "    - Numerical variables \n",
    "        - Skewed data columns\n",
    "        - high collinearity columns\n",
    "    - Categorical Variables\n",
    "        - high cardinality: \n",
    "            - no of distinct values, \n",
    "            - columns with all distinct values \n",
    "    - Imbalance dataset or not\n",
    "        - bar graph – frequency %"
   ]
  },
  {
   "cell_type": "code",
   "execution_count": 1,
   "id": "a17bb4de",
   "metadata": {},
   "outputs": [],
   "source": [
    "# Importing Libraries\n",
    "import pandas as pd\n",
    "import numpy as np\n",
    "import matplotlib.pyplot as plt\n",
    "import seaborn as sns"
   ]
  },
  {
   "cell_type": "markdown",
   "id": "97b00958",
   "metadata": {},
   "source": [
    "### 1.1 General insights:"
   ]
  },
  {
   "cell_type": "markdown",
   "id": "0c724662",
   "metadata": {},
   "source": [
    "    - No of variables (rows) & observations (columns)\n",
    "    - No of Categorical features\n",
    "    - No of Numerical features\n",
    "    - No of bool features"
   ]
  },
  {
   "cell_type": "code",
   "execution_count": 164,
   "id": "8cfbe805",
   "metadata": {},
   "outputs": [],
   "source": [
    "def eda_gen(dataframe):\n",
    "    df = dataframe\n",
    "\n",
    "    # No of Nows & Columns\n",
    "    rows = df.shape[0]\n",
    "    columns = df.shape[1]\n",
    "\n",
    "    # Features count\n",
    "    # No of Categorical features\n",
    "    try:\n",
    "        cate_features = df.dtypes.value_counts()[0]\n",
    "    except:\n",
    "        cate_features = 0\n",
    "    # No of Numerical features\n",
    "    try:\n",
    "        num_features = df.dtypes.value_counts()[1]\n",
    "    except:\n",
    "        num_features = 0    \n",
    "    # No of bool features    \n",
    "    try:\n",
    "        bool_features = df.dtypes.value_counts()[2]\n",
    "    except:\n",
    "        bool_features = 0    \n",
    "    \n",
    "    print('\\033[4m' + '\\033[94m'+ 'General insights:' + \"\\033[0;0m\",\n",
    "          '\\nNo of rows :               ', rows,\n",
    "          '\\nNo of columns:             ',columns, \n",
    "          '\\nNo of categorical features:', cate_features, \n",
    "          '\\nNo of Numarical features:  ', num_features, \n",
    "          '\\nNo of Boolean features:    ', bool_features)"
   ]
  },
  {
   "cell_type": "code",
   "execution_count": 165,
   "id": "8087243f",
   "metadata": {},
   "outputs": [
    {
     "name": "stdout",
     "output_type": "stream",
     "text": [
      "\u001b[4m\u001b[94mGeneral insights:\u001b[0;0m \n",
      "No of rows :                245725 \n",
      "No of columns:              11 \n",
      "No of categorical features: 7 \n",
      "No of Numarical features:   4 \n",
      "No of Boolean features:     0\n"
     ]
    }
   ],
   "source": [
    "eda_gen(df)"
   ]
  },
  {
   "cell_type": "markdown",
   "id": "e9f933a9",
   "metadata": {},
   "source": [
    "### 1.2 Problem specific insights:\n",
    "    - Missing Value columns & its %, \n",
    "        - Stacked bar chart\n",
    "        - Spectrum chart\n",
    "    - Numerical variables \n",
    "        - Skewed data columns\n",
    "        - high collinearity columns\n",
    "    - Categorical Variables\n",
    "        - high cardinality: \n",
    "            - no of distinct values, \n",
    "            - columns with all distinct values \n",
    "    - Imbalance dataset or not\n",
    "        - bar graph – frequency %"
   ]
  },
  {
   "cell_type": "code",
   "execution_count": 54,
   "id": "16574ec3",
   "metadata": {},
   "outputs": [],
   "source": [
    "class eda_prob_spec:\n",
    "    def __init__(self, dataframe):\n",
    "        self.df = dataframe\n",
    "    def missing_value_df(self):\n",
    "        not_null_count = self.df.notnull().sum()\n",
    "        null_count = self.df.isnull().sum()\n",
    "        null_percentage = self.df.isnull().sum() * 100 / len(df)\n",
    "        not_null_percentage = 100 - null_percentage\n",
    "        missing_value_df = pd.DataFrame({'not_null_count': not_null_count,\n",
    "                                         'null_count': null_count,\n",
    "                                         'not_null_percent': not_null_percentage,\n",
    "                                         'null_percent': null_percentage})\n",
    "        missing_value_df.sort_values('null_percent', ascending=False, inplace=True)\n",
    "        missing_value_df = missing_value_df[missing_value_df['null_count']>0]\n",
    "        self.missing_value_df=missing_value_df\n",
    "        return(missing_value_df)\n",
    "    def missing_value_plot(self):\n",
    "        plt = self.missing_value_df.iloc[:,[2,3]].plot(kind= 'bar', stacked=True)\n",
    "        return plt"
   ]
  },
  {
   "cell_type": "code",
   "execution_count": 55,
   "id": "4b3cd815",
   "metadata": {},
   "outputs": [
    {
     "data": {
      "text/html": [
       "<div>\n",
       "<style scoped>\n",
       "    .dataframe tbody tr th:only-of-type {\n",
       "        vertical-align: middle;\n",
       "    }\n",
       "\n",
       "    .dataframe tbody tr th {\n",
       "        vertical-align: top;\n",
       "    }\n",
       "\n",
       "    .dataframe thead th {\n",
       "        text-align: right;\n",
       "    }\n",
       "</style>\n",
       "<table border=\"1\" class=\"dataframe\">\n",
       "  <thead>\n",
       "    <tr style=\"text-align: right;\">\n",
       "      <th></th>\n",
       "      <th>not_null_count</th>\n",
       "      <th>null_count</th>\n",
       "      <th>not_null_percent</th>\n",
       "      <th>null_percent</th>\n",
       "    </tr>\n",
       "  </thead>\n",
       "  <tbody>\n",
       "    <tr>\n",
       "      <th>Credit_Product</th>\n",
       "      <td>216400</td>\n",
       "      <td>29325</td>\n",
       "      <td>88.065927</td>\n",
       "      <td>11.934073</td>\n",
       "    </tr>\n",
       "  </tbody>\n",
       "</table>\n",
       "</div>"
      ],
      "text/plain": [
       "                not_null_count  null_count  not_null_percent  null_percent\n",
       "Credit_Product          216400       29325         88.065927     11.934073"
      ]
     },
     "execution_count": 55,
     "metadata": {},
     "output_type": "execute_result"
    },
    {
     "data": {
      "text/plain": [
       "<AxesSubplot:>"
      ]
     },
     "execution_count": 55,
     "metadata": {},
     "output_type": "execute_result"
    },
    {
     "data": {
      "image/png": "[encoded data removed]",
      "text/plain": [
       "<Figure size 432x288 with 1 Axes>"
      ]
     },
     "metadata": {
      "needs_background": "light"
     },
     "output_type": "display_data"
    }
   ],
   "source": [
    "from IPython.core.interactiveshell import InteractiveShell\n",
    "InteractiveShell.ast_node_interactivity = \"all\" #\"last_expr\"\n",
    "\n",
    "df_null_stats = eda_prob_spec(df)\n",
    "df_null_stats.missing_value_df()\n",
    "df_null_stats.missing_value_plot()"
   ]
  },
  {
   "cell_type": "code",
   "execution_count": 102,
   "id": "4d0ae6c6",
   "metadata": {},
   "outputs": [
    {
     "data": {
      "text/html": [
       "<div>\n",
       "<style scoped>\n",
       "    .dataframe tbody tr th:only-of-type {\n",
       "        vertical-align: middle;\n",
       "    }\n",
       "\n",
       "    .dataframe tbody tr th {\n",
       "        vertical-align: top;\n",
       "    }\n",
       "\n",
       "    .dataframe thead th {\n",
       "        text-align: right;\n",
       "    }\n",
       "</style>\n",
       "<table border=\"1\" class=\"dataframe\">\n",
       "  <thead>\n",
       "    <tr style=\"text-align: right;\">\n",
       "      <th></th>\n",
       "      <th>ID</th>\n",
       "      <th>Gender</th>\n",
       "      <th>Age</th>\n",
       "      <th>Region_Code</th>\n",
       "      <th>Occupation</th>\n",
       "      <th>Channel_Code</th>\n",
       "      <th>Vintage</th>\n",
       "      <th>Credit_Product</th>\n",
       "      <th>Avg_Account_Balance</th>\n",
       "      <th>Is_Active</th>\n",
       "      <th>Is_Lead</th>\n",
       "    </tr>\n",
       "  </thead>\n",
       "  <tbody>\n",
       "    <tr>\n",
       "      <th>0</th>\n",
       "      <td>NNVBBKZB</td>\n",
       "      <td>Female</td>\n",
       "      <td>73</td>\n",
       "      <td>RG268</td>\n",
       "      <td>Other</td>\n",
       "      <td>X3</td>\n",
       "      <td>43</td>\n",
       "      <td>No</td>\n",
       "      <td>1045696</td>\n",
       "      <td>No</td>\n",
       "      <td>0</td>\n",
       "    </tr>\n",
       "    <tr>\n",
       "      <th>1</th>\n",
       "      <td>IDD62UNG</td>\n",
       "      <td>Female</td>\n",
       "      <td>30</td>\n",
       "      <td>RG277</td>\n",
       "      <td>Salaried</td>\n",
       "      <td>X1</td>\n",
       "      <td>32</td>\n",
       "      <td>No</td>\n",
       "      <td>581988</td>\n",
       "      <td>No</td>\n",
       "      <td>0</td>\n",
       "    </tr>\n",
       "    <tr>\n",
       "      <th>2</th>\n",
       "      <td>HD3DSEMC</td>\n",
       "      <td>Female</td>\n",
       "      <td>56</td>\n",
       "      <td>RG268</td>\n",
       "      <td>Self_Employed</td>\n",
       "      <td>X3</td>\n",
       "      <td>26</td>\n",
       "      <td>No</td>\n",
       "      <td>1484315</td>\n",
       "      <td>Yes</td>\n",
       "      <td>0</td>\n",
       "    </tr>\n",
       "    <tr>\n",
       "      <th>3</th>\n",
       "      <td>BF3NC7KV</td>\n",
       "      <td>Male</td>\n",
       "      <td>34</td>\n",
       "      <td>RG270</td>\n",
       "      <td>Salaried</td>\n",
       "      <td>X1</td>\n",
       "      <td>19</td>\n",
       "      <td>No</td>\n",
       "      <td>470454</td>\n",
       "      <td>No</td>\n",
       "      <td>0</td>\n",
       "    </tr>\n",
       "    <tr>\n",
       "      <th>4</th>\n",
       "      <td>TEASRWXV</td>\n",
       "      <td>Female</td>\n",
       "      <td>30</td>\n",
       "      <td>RG282</td>\n",
       "      <td>Salaried</td>\n",
       "      <td>X1</td>\n",
       "      <td>33</td>\n",
       "      <td>No</td>\n",
       "      <td>886787</td>\n",
       "      <td>No</td>\n",
       "      <td>0</td>\n",
       "    </tr>\n",
       "  </tbody>\n",
       "</table>\n",
       "</div>"
      ],
      "text/plain": [
       "         ID  Gender  Age Region_Code     Occupation Channel_Code  Vintage  \\\n",
       "0  NNVBBKZB  Female   73       RG268          Other           X3       43   \n",
       "1  IDD62UNG  Female   30       RG277       Salaried           X1       32   \n",
       "2  HD3DSEMC  Female   56       RG268  Self_Employed           X3       26   \n",
       "3  BF3NC7KV    Male   34       RG270       Salaried           X1       19   \n",
       "4  TEASRWXV  Female   30       RG282       Salaried           X1       33   \n",
       "\n",
       "  Credit_Product  Avg_Account_Balance Is_Active  Is_Lead  \n",
       "0             No              1045696        No        0  \n",
       "1             No               581988        No        0  \n",
       "2             No              1484315       Yes        0  \n",
       "3             No               470454        No        0  \n",
       "4             No               886787        No        0  "
      ]
     },
     "execution_count": 102,
     "metadata": {},
     "output_type": "execute_result"
    }
   ],
   "source": [
    "df = pd.read_csv('train.csv')\n",
    "df.head()"
   ]
  },
  {
   "cell_type": "code",
   "execution_count": 103,
   "id": "23624c29",
   "metadata": {},
   "outputs": [
    {
     "name": "stdout",
     "output_type": "stream",
     "text": [
      "<class 'pandas.core.frame.DataFrame'>\n",
      "RangeIndex: 245725 entries, 0 to 245724\n",
      "Data columns (total 11 columns):\n",
      " #   Column               Non-Null Count   Dtype \n",
      "---  ------               --------------   ----- \n",
      " 0   ID                   245725 non-null  object\n",
      " 1   Gender               245725 non-null  object\n",
      " 2   Age                  245725 non-null  int64 \n",
      " 3   Region_Code          245725 non-null  object\n",
      " 4   Occupation           245725 non-null  object\n",
      " 5   Channel_Code         245725 non-null  object\n",
      " 6   Vintage              245725 non-null  int64 \n",
      " 7   Credit_Product       216400 non-null  object\n",
      " 8   Avg_Account_Balance  245725 non-null  int64 \n",
      " 9   Is_Active            245725 non-null  object\n",
      " 10  Is_Lead              245725 non-null  int64 \n",
      "dtypes: int64(4), object(7)\n",
      "memory usage: 20.6+ MB\n"
     ]
    }
   ],
   "source": [
    "# Check whether all Dtypes are proper or not, else convert to relevent datatype\n",
    "df.info()"
   ]
  },
  {
   "cell_type": "code",
   "execution_count": 108,
   "id": "bf34a4fa",
   "metadata": {},
   "outputs": [],
   "source": [
    "from IPython.display import Markdown, display\n",
    "def printmd(string):\n",
    "    display(Markdown(string))"
   ]
  },
  {
   "cell_type": "code",
   "execution_count": 111,
   "id": "89fe7e82",
   "metadata": {},
   "outputs": [
    {
     "data": {
      "text/markdown": [
       "**bold text**"
      ],
      "text/plain": [
       "<IPython.core.display.Markdown object>"
      ]
     },
     "metadata": {},
     "output_type": "display_data"
    }
   ],
   "source": [
    "printmd(\"**bold text**\")"
   ]
  },
  {
   "cell_type": "code",
   "execution_count": null,
   "id": "8ec7f74b",
   "metadata": {},
   "outputs": [],
   "source": []
  }
 ],
 "metadata": {
  "kernelspec": {
   "display_name": "Python 3.7.4 64-bit ('base': conda)",
   "language": "python",
   "name": "python37464bitbasecondaddb2f51f023b422196219bf78748718b"
  },
  "language_info": {
   "codemirror_mode": {
    "name": "ipython",
    "version": 3
   },
   "file_extension": ".py",
   "mimetype": "text/x-python",
   "name": "python",
   "nbconvert_exporter": "python",
   "pygments_lexer": "ipython3",
   "version": "3.7.10"
  }
 },
 "nbformat": 4,
 "nbformat_minor": 5
}
